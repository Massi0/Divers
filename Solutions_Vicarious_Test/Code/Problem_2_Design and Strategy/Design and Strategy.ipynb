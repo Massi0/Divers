{
 "cells": [
  {
   "cell_type": "markdown",
   "metadata": {},
   "source": [
    "<h1><center>Problem 2: Design and Strategy </center></h1>"
   ]
  },
  {
   "cell_type": "markdown",
   "metadata": {},
   "source": [
    "<font size=\"4\">\n",
    " Throughout this problem, we will use the Monte-Carlo nethod to find the optimal strategies.\n",
    "    <\\font>"
   ]
  },
  {
   "cell_type": "code",
   "execution_count": 237,
   "metadata": {},
   "outputs": [],
   "source": [
    "\n",
    "import numpy as np\n",
    "from matplotlib import pyplot as plt\n",
    "\n",
    "class Die:\n",
    "    #This class represent a faire Die\n",
    "    def __init__(self,n_sides=6):\n",
    "        self.faces = list(range(1,n_sides+1))\n",
    "        \n",
    "    def role_once(self):\n",
    "        #sample a face from uniform distribution\n",
    "        return np.random.choice(self.faces)\n",
    "    \n",
    "    def __call__(self):\n",
    "        sample = self.role_once()\n",
    "        return 'E' if sample%2 == 0 else 'O'\n",
    "        \n",
    "        "
   ]
  },
  {
   "cell_type": "markdown",
   "metadata": {},
   "source": [
    "## Part A : Checking that the six-sided die is faire die\n",
    "<font size=\"4\">\n",
    "To do so, we will sample N samples from the die and look at the histogram plot\n",
    "\n",
    "</font>"
   ]
  },
  {
   "cell_type": "code",
   "execution_count": 236,
   "metadata": {},
   "outputs": [
    {
     "data": {
      "text/plain": [
       "Text(0.5, 1.0, 'Histogram of the six faced')"
      ]
     },
     "execution_count": 236,
     "metadata": {},
     "output_type": "execute_result"
    },
    {
     "data": {
      "image/png": "[encoded data removed]",
      "text/plain": [
       "<Figure size 432x288 with 1 Axes>"
      ]
     },
     "metadata": {
      "needs_background": "light"
     },
     "output_type": "display_data"
    }
   ],
   "source": [
    "n_samples = 50000\n",
    "die = Die()\n",
    "\n",
    "samples = [die.role_once() for _ in range(n_samples)]\n",
    "\n",
    "plt.hist(samples,rwidth=0.7,bins=6)\n",
    "plt.title(\"Histogram of the six faced\")"
   ]
  },
  {
   "cell_type": "markdown",
   "metadata": {},
   "source": [
    "<font size=\"4\">\n",
    "    We see that the bars have pretty similar sizes. Hence, the die is fair.\n",
    "    <\\font>"
   ]
  },
  {
   "cell_type": "markdown",
   "metadata": {},
   "source": [
    "## Part B : Computation of the optimal strategy for each player assuming a perfectly fair die\n",
    "<font size=\"4\">\n",
    "As stated in the problem set, in this scenario we assume that Player 2 knows a priori the sequence chosen by Player 1. Furthermore we assume that both Players are rational, that is they are always trying to win. \n",
    "    \n",
    "Now, assume that Player 1 choses some sequence, let say, $S_1$. Then, Player 2 can win by choosing a sequence $S_2$, that maximize the follwing probability  $$\n",
    "\\max_{S_2} P[S_1][S_2] = \\max_{S_2}P(S_2 \\text{ appears before } S_1)\n",
    "$$\n",
    "    \n",
    "that is, the optimal sequence for Player 2 is: $\\arg \\max_{S_2} P[S_1][S_2]$, while $S_1$ is known by assumption.  \n",
    "    \n",
    "Similary, Player 1 knows that Player 2 is rational. Then, Player 1 choses his optimal sequence by solving $$\n",
    "\\min_{S_1} P[S_1][S_2] = \\min_{S_1} P(S_2 \\text{ appears before } S_1), \\quad \\forall S_2\n",
    "$$\n",
    "this means that Player 1 need to chose the strategy that minimize the probability of Player 2 to win. Note that \n",
    "    $$\n",
    "    \\min_{S_1} P[S_1][S_2]\\leq \\min_{S_1} \\max_{S_2} P[S_1][S_2], \\quad \\forall S_2\n",
    "    $$\n",
    "Hence, the optimal sequence for Player 1 is: $\\arg\\min_{S_1} \\max_{S_2} P[S_1][S_2]$      \n",
    "Now, the last step that we need to compute the optimal strategy for each player is to find the matrix $P[S_1][S_2] = P(S_2 \\text{ appears before } S_1) \\quad \\forall S_1,S_2$\n",
    "    \n",
    "In order to do so, we will use the Monte-Carlo method. where for each $P_1,P_2$ we will run $N$ experiments to estimate $P[S_1][S_2] = P(S_2 \\text{ appears before } S_1)$. By Law of Large Numbers, we now that this estimation converges to the real probability if $N$ is arbitrarily large. The code follows: \n",
    "</font>"
   ]
  },
  {
   "cell_type": "code",
   "execution_count": 238,
   "metadata": {},
   "outputs": [],
   "source": [
    "#Possible outcomes\n",
    "outcomes = [\"E\",\"O\"]\n",
    "\n",
    "#All possible sequences \n",
    "seqs = [\"\".join([a,b,c]) for a in outcomes for b in outcomes for c in outcomes]"
   ]
  },
  {
   "cell_type": "code",
   "execution_count": 287,
   "metadata": {},
   "outputs": [],
   "source": [
    "n_samples = 10000\n",
    "#Simulator of the game\n",
    "def play_game(p1,p2):\n",
    "    rolls = \"\"\n",
    "    winners_history = []\n",
    "    for n in range(n_samples):\n",
    "        i = 0\n",
    "        rolls = \"\"\n",
    "        while True:\n",
    "            rolls += die()\n",
    "            if p1 in rolls:\n",
    "                winners_history.append(1)\n",
    "                break\n",
    "            if p2 in rolls:\n",
    "                winners_history.append(2)\n",
    "                break\n",
    "                \n",
    "            if i>1e5:\n",
    "                break\n",
    "            i += 1\n",
    "            \n",
    "    return winners_history\n",
    "    \n",
    "    "
   ]
  },
  {
   "cell_type": "code",
   "execution_count": 288,
   "metadata": {},
   "outputs": [],
   "source": [
    "strategy_dict = {}\n",
    "#estimate the P\n",
    "for p1 in seqs:\n",
    "    for p2 in seqs:\n",
    "        if p1 == p2:\n",
    "            continue\n",
    "        winner = play_game(p1,p2)\n",
    "        #Estimate of probability that Player 1 wins\n",
    "        prob1 = np.sum((np.array(winner)== 1).astype(np.float))/len(winner)\n",
    "        #Estimate of probability that Player 2 wins\n",
    "        prob2 = np.sum((np.array(winner)== 2).astype(np.float))/len(winner)\n",
    "        strategy_dict[(p1,p2)] = (prob1,prob2)\n",
    "        \n"
   ]
  },
  {
   "cell_type": "code",
   "execution_count": 289,
   "metadata": {},
   "outputs": [],
   "source": [
    "#Construction of P such that \n",
    "#P[S1][S2] = P(S_2 appears before S_1) that Prob Player 2 to win \n",
    "\n",
    "P = {}\n",
    "for (s1,s2),(prob1,prob2) in strategy_dict.items():\n",
    "    if P.get(s1) is None:\n",
    "        P[s1] = dict()\n",
    "        \n",
    "    P[s1][s2] = prob2\n",
    "    "
   ]
  },
  {
   "cell_type": "markdown",
   "metadata": {},
   "source": [
    "<font size=\"4\">\n",
    "Now, let find the optimal strategies. But before doing that, let pick an example and see what happens. \n",
    "\n",
    "    \n",
    "Assume that Player 1 chooses the sequence \"EEE\", the otimal move for Player 2 is: \n",
    "</font>"
   ]
  },
  {
   "cell_type": "code",
   "execution_count": 290,
   "metadata": {},
   "outputs": [
    {
     "data": {
      "text/plain": [
       "{'EEO': 0.4997,\n",
       " 'EOE': 0.593,\n",
       " 'EOO': 0.5989,\n",
       " 'OEE': 0.8762,\n",
       " 'OEO': 0.5892,\n",
       " 'OOE': 0.7041,\n",
       " 'OOO': 0.501}"
      ]
     },
     "execution_count": 290,
     "metadata": {},
     "output_type": "execute_result"
    }
   ],
   "source": [
    "P[\"EEE\"]"
   ]
  },
  {
   "cell_type": "code",
   "execution_count": 291,
   "metadata": {},
   "outputs": [
    {
     "name": "stdout",
     "output_type": "stream",
     "text": [
      "Optimal move for Player 2 is 'OEE' \n"
     ]
    }
   ],
   "source": [
    "#Get sequence with max probabily of wining\n",
    "optim_seq = max(P[\"EEE\"], key = lambda key: P[\"EEE\"][key])\n",
    "print(\"Optimal move for Player 2 is '{}' \".format(optim_seq))\n"
   ]
  },
  {
   "cell_type": "markdown",
   "metadata": {},
   "source": [
    "<font size=\"4\">\n",
    "Recall that the optimal strategy for Player 1 is $$\n",
    "    \\min_{S_1} P[S_1][S_2]\\leq \\min_{S_1} \\max_{S_2} P[S_1][S_2], \\quad \\forall S_2\n",
    "    $$\n",
    " Thus the optimal sequence for Player 1 is:\n",
    "</font>"
   ]
  },
  {
   "cell_type": "code",
   "execution_count": 304,
   "metadata": {},
   "outputs": [
    {
     "name": "stdout",
     "output_type": "stream",
     "text": [
      "Absolut best winner sequence for Player 1 is 'EOE' \n"
     ]
    }
   ],
   "source": [
    "absolute_optimal_strategy_for_player_1 = S1 = min(P, key= lambda s1: max(P[s1], key=lambda s2: P[s1][s2]))\n",
    "print(\"Absolut best winner sequence for Player 1 is '{}' \".format(S1))"
   ]
  },
  {
   "cell_type": "markdown",
   "metadata": {},
   "source": [
    "<font size=\"4\">\n",
    "Recall that the optimal strategy for Player 1 is $$\n",
    "    \\max_{S_2} P[S^*_1][S_2]\n",
    "    $$\n",
    " While $S^*_1$ is the best strategy for Player 2. Thus the optimal sequence for Player 1 is:\n",
    "</font>"
   ]
  },
  {
   "cell_type": "code",
   "execution_count": 293,
   "metadata": {},
   "outputs": [
    {
     "name": "stdout",
     "output_type": "stream",
     "text": [
      "Absolut best winner sequence for Player 2 is 'EEO' \n"
     ]
    }
   ],
   "source": [
    "absolute_optimal_strategy_for_player_2 = S2 =  max(P[S1], key=lambda S2: P[S1][S2])\n",
    "print(\"Absolut best winner sequence for Player 2 is '{}' \".format(S2))"
   ]
  },
  {
   "cell_type": "markdown",
   "metadata": {},
   "source": [
    "## Part C : Probability Player 2 (AI agent) will win, given the optimal strategies above is: "
   ]
  },
  {
   "cell_type": "code",
   "execution_count": 295,
   "metadata": {},
   "outputs": [
    {
     "name": "stdout",
     "output_type": "stream",
     "text": [
      "Probability Player 2 (AI agent) will win, given the optimal strategies above is 66.74%\n"
     ]
    }
   ],
   "source": [
    "print(\"Probability Player 2 (AI agent) will win, given the optimal strategies above is {:0.2f}%\" .format(100*P[absolute_optimal_strategy_for_player_1][absolute_optimal_strategy_for_player_2]))"
   ]
  },
  {
   "cell_type": "markdown",
   "metadata": {},
   "source": [
    "<font size=\"4\">\n",
    "    As we may, a priori, predicted, Player 2 should have more chance to win. This is, obviously, because of the advantage of the a priori information.\n",
    "    </font>"
   ]
  },
  {
   "cell_type": "markdown",
   "metadata": {},
   "source": [
    "## Part D : The game when Player 2 does not have any information about the choices of Player 1: "
   ]
  },
  {
   "cell_type": "markdown",
   "metadata": {},
   "source": [
    "<font size=\"4\">\n",
    "   Now that Player 2 does not have anymore the advantage of information, its optimal strategy is chosen such that the following is maximized:\n",
    "    $$\n",
    "    \\max_{S_2} P[S_1][S_2] = \\max_{S_2}P(S_2 \\text{ appears before } S_1), \\quad \\forall S_1\n",
    "$$\n",
    "    Note that,\n",
    "    $$\n",
    "    \\max_{S_2} \\min_{S_1}P[S_1][S_2]\\leq \\max_{S_2} P[S_1][S_2], \\quad \\forall S_1\n",
    "$$\n",
    "Hence, the optimal sequence for Player 2 is: $\\arg\\max_{S_2} \\min_{S_1}P[S_1][S_2]$\n",
    "\n",
    "The way to compute optimal strategy for Player 1 remains unchanged, that is solving the following minimization problem:\n",
    " $$\n",
    "\\min_{S_1} P[S_1][S_2]\\leq \\min_{S_1} \\max_{S_2} P[S_1][S_2], \\quad \\forall S_2 \n",
    "$$\n",
    "Hence, the optimal sequence for Player 1 is: $\\arg\\min_{S_1} \\max_{S_2}P[S_1][S_2]$\n",
    "    \n",
    "Note that, solving these two equations and finding the optimal strategies lead to a Nash equilibria. That is, assuming that the Players are rational, each Player won't have any interest in changing his strategy after solving the $\\min\\max$ problem above. \n",
    "    \n",
    "\n",
    "The new optimal strategies for each player is\n",
    " \n",
    " </font>"
   ]
  },
  {
   "cell_type": "code",
   "execution_count": 305,
   "metadata": {},
   "outputs": [
    {
     "name": "stdout",
     "output_type": "stream",
     "text": [
      "Absolut best winner sequence for Player 1 is 'EOE' \n",
      "Absolut best winner sequence for Player 2 is 'EEO' \n",
      "Probability Player 2 (AI agent) will win, given the optimal strategies above is 66.74%\n"
     ]
    }
   ],
   "source": [
    "absolute_optimal_strategy_for_player_2 = S2 = max(P, key= lambda s1: min(P[s1], key=lambda s2: P[s1][s2]))\n",
    "absolute_optimal_strategy_for_player_1 = S1 = min(P, key= lambda s1: max(P[s1], key=lambda s2: P[s1][s2]))\n",
    "\n",
    "\n",
    "print(\"Absolut best winner sequence for Player 1 is '{}' \".format(S1))\n",
    "print(\"Absolut best winner sequence for Player 2 is '{}' \".format(S2))\n",
    "print(\"Probability Player 2 (AI agent) will win, given the optimal strategies above is {:0.2f}%\" .format(100*P[S1][S2]))"
   ]
  },
  {
   "cell_type": "markdown",
   "metadata": {},
   "source": [
    "<font size=\"4\">\n",
    " Surprisingly, the results of optimality are exactly the same as in the case of a priori known strategy of Player 1 by Player 2. This can be explained very simply by the fact that the main assumption of rationnality , that is, both players are rationnal leads to a Nash Equilibria that can be computed independantly of the shared information. However, if Player 1, in the first case when the information is shared, decides to not be rationnal, then the information is crucial for Player 2.\n",
    "  <\\font>"
   ]
  }
 ],
 "metadata": {
  "kernelspec": {
   "display_name": "Python 3",
   "language": "python",
   "name": "python3"
  },
  "language_info": {
   "codemirror_mode": {
    "name": "ipython",
    "version": 3
   },
   "file_extension": ".py",
   "mimetype": "text/x-python",
   "name": "python",
   "nbconvert_exporter": "python",
   "pygments_lexer": "ipython3",
   "version": "3.7.4"
  }
 },
 "nbformat": 4,
 "nbformat_minor": 4
}
