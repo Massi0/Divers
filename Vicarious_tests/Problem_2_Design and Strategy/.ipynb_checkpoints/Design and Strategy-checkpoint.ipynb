{
 "cells": [
  {
   "cell_type": "markdown",
   "metadata": {},
   "source": [
    "<h1><center>Problem 1: Design and Strategy </center></h1>"
   ]
  },
  {
   "cell_type": "markdown",
   "metadata": {},
   "source": [
    "<font size=\"4\">\n",
    " Throughout this problem, we will use the Monte-Carlo nethod to find the optimal strategies.\n",
    "    <\\font>"
   ]
  },
  {
   "cell_type": "code",
   "execution_count": 9,
   "metadata": {},
   "outputs": [],
   "source": [
    "\n",
    "import numpy as np\n",
    "from matplotlib import pyplot as plt\n",
    "\n",
    "class Die:\n",
    "    #This class represent a faire Die\n",
    "    def __init__(self,n_sides=6):\n",
    "        self.faces = list(range(1,n_sides+1))\n",
    "        \n",
    "    def role_once(self):\n",
    "        #sample a face from uniform distribution\n",
    "        return np.random.choice(self.faces)\n",
    "    \n",
    "    def __call__(self):\n",
    "        sample = self.role_once()\n",
    "        return 'E' if sample%2 == 0 else 'O'\n",
    "        \n",
    "        "
   ]
  },
  {
   "cell_type": "markdown",
   "metadata": {},
   "source": [
    "## Part A : Checking that the six-sided die is faire die\n",
    "<font size=\"4\">\n",
    "To do so, we will sample N samples from the die and look at the histogram plot\n",
    "\n",
    "</font>"
   ]
  },
  {
   "cell_type": "code",
   "execution_count": 18,
   "metadata": {},
   "outputs": [
    {
     "data": {
      "text/plain": [
       "Text(0.5, 1.0, 'Histogram of the six faced')"
      ]
     },
     "execution_count": 18,
     "metadata": {},
     "output_type": "execute_result"
    },
    {
     "data": {
      "image/png": "[encoded data removed]",
      "text/plain": [
       "<Figure size 432x288 with 1 Axes>"
      ]
     },
     "metadata": {
      "needs_background": "light"
     },
     "output_type": "display_data"
    }
   ],
   "source": [
    "n_samples = 50000\n",
    "die = Die()\n",
    "\n",
    "samples = [die.role_once() for _ in range(n_samples)]\n",
    "\n",
    "plt.hist(samples,rwidth=0.7,bins=6)\n",
    "plt.title(\"Histogram of the six faced\")"
   ]
  },
  {
   "cell_type": "markdown",
   "metadata": {},
   "source": [
    "<font size=\"4\">\n",
    "    We see that the bars have pretty similar sizes. Hence, the die is fair.\n",
    "    <\\font>"
   ]
  },
  {
   "cell_type": "markdown",
   "metadata": {},
   "source": [
    "## Part B : Computation of the optimal strategy for each player assuming a perfectly fair die\n",
    "<font size=\"4\">\n",
    "As stated in the problem set, in this scenario we assume that Player 2 knows a priori the sequence chosen by Player 1. Furthermore we assume that both Players are rational, that is they are always trying to win. \n",
    "    \n",
    "Now, assume that Player 1 choses some sequence, let say, $S_1$, then Player 2 can win by choosing a sequence $S_2$, that maximize the follwing probability  $$\n",
    "\\max_{S_2} P[S_1][S_2] = \\max_{S_2}P(S_2 \\text{ appears before } S_1)\n",
    "$$\n",
    "    \n",
    "that is, Player 2 is computing $\\arg \\max_{S_2} P[S_1][S_2]$, while $S_1$ is known by assumption.  \n",
    "    \n",
    "Similary, Player 1 knows that Player 2 is rational. Then, Player 1 is choses his sequence by solving $$\n",
    "\\min_{S_1} P[S_1][S_2] = \\min_{S_1} P(S_2 \\text{ appears before } S_1), \\quad \\forall S_2\n",
    "$$\n",
    "this means that Player 1 need to chose the strategy that minimize the probability of Player 2 win. Note that \n",
    "    $$\n",
    "    \\min_{S_1} P[S_1][S_2]\\leq \\min_{S_1} \\max_{S_2} P[S_1][S_2], \\quad \\forall S_2\n",
    "    $$\n",
    "   \n",
    "Note that, solving these equations and finding optimal strategies lead to a Nash equilibria. That is, assuming that the Players are rational, each Player won't have any interest in changing his strategy after solving the $\\min\\max$ problem.\n",
    "    \n",
    "    \n",
    "Now, the last step that we need to compute the optimal strategy for each player is to find the matrix $P[S_1][S_2] = P(S_2 \\text{ appears before } S_1) \\quad \\forall S_1,S_2$\n",
    "    \n",
    "In order to do so, we will use the Monte-Carlo method. where for each $P_1,P_2$ we will run $N$ experiments to estimate $P[S_1][S_2] = P(S_2 \\text{ appears before } S_1)$. By Law of Large Numbers, we now that this estimation converge to the real probability if $N$ is arbitrarily large. The code follows: \n",
    "</font>"
   ]
  },
  {
   "cell_type": "code",
   "execution_count": 179,
   "metadata": {},
   "outputs": [],
   "source": [
    "#Possible outcomes\n",
    "outcomes = [\"E\",\"O\"]\n",
    "\n",
    "#All the possible seqs\n",
    "seqs = [\"\".join([a,b,c]) for a in outcomes for b in outcomes for c in outcomes]"
   ]
  },
  {
   "cell_type": "code",
   "execution_count": 180,
   "metadata": {},
   "outputs": [],
   "source": [
    "n_samples = 10000\n",
    "def play_game(p1,p2):\n",
    "    rolls = \"\"\n",
    "    winner = []\n",
    "    for n in range(n_samples):\n",
    "        i = 0\n",
    "        rolls = \"\"\n",
    "        while True:\n",
    "            rolls += die()\n",
    "            if p1 in rolls:\n",
    "                winner.append(1)\n",
    "                break\n",
    "            if p2 in rolls:\n",
    "                winner.append(2)\n",
    "                break\n",
    "                \n",
    "            if i>1e5:\n",
    "                break\n",
    "            i += 1\n",
    "            \n",
    "    return winner\n",
    "    \n",
    "    \n",
    "    \n",
    "     \n",
    "winner = play_game(seqs[0],seqs[1])\n"
   ]
  },
  {
   "cell_type": "code",
   "execution_count": 185,
   "metadata": {},
   "outputs": [],
   "source": [
    "strategy_dict = {}\n",
    "for p1 in seqs:\n",
    "    for p2 in seqs:\n",
    "        if p1 == p2:\n",
    "            continue\n",
    "        winner = play_game(p1,p2)\n",
    "        prob1 = np.sum((np.array(winner)== 1).astype(np.float))/len(winner)\n",
    "        prob2 = np.sum((np.array(winner)== 2).astype(np.float))/len(winner)\n",
    "        strategy_dict[(p1,p2)] = (prob1,prob2)\n",
    "        "
   ]
  },
  {
   "cell_type": "code",
   "execution_count": 186,
   "metadata": {},
   "outputs": [
    {
     "data": {
      "text/plain": [
       "{('EEE', 'EEO'): (0.4979, 0.5021),\n",
       " ('EEE', 'EOE'): (0.4029, 0.5971),\n",
       " ('EEE', 'EOO'): (0.4089, 0.5911),\n",
       " ('EEE', 'OEE'): (0.1212, 0.8788),\n",
       " ('EEE', 'OEO'): (0.4223, 0.5777),\n",
       " ('EEE', 'OOE'): (0.3007, 0.6993),\n",
       " ('EEE', 'OOO'): (0.4986, 0.5014),\n",
       " ('EEO', 'EEE'): (0.5006, 0.4994),\n",
       " ('EEO', 'EOE'): (0.6737, 0.3263),\n",
       " ('EEO', 'EOO'): (0.6672, 0.3328),\n",
       " ('EEO', 'OEE'): (0.2499, 0.7501),\n",
       " ('EEO', 'OEO'): (0.6216, 0.3784),\n",
       " ('EEO', 'OOE'): (0.5022, 0.4978),\n",
       " ('EEO', 'OOO'): (0.7097, 0.2903),\n",
       " ('EOE', 'EEE'): (0.6043, 0.3957),\n",
       " ('EOE', 'EEO'): (0.325, 0.675),\n",
       " ('EOE', 'EOO'): (0.4956, 0.5044),\n",
       " ('EOE', 'OEE'): (0.5039, 0.4961),\n",
       " ('EOE', 'OEO'): (0.5023, 0.4977),\n",
       " ('EOE', 'OOE'): (0.376, 0.624),\n",
       " ('EOE', 'OOO'): (0.5803, 0.4197),\n",
       " ('EOO', 'EEE'): (0.5995, 0.4005),\n",
       " ('EOO', 'EEO'): (0.3421, 0.6579),\n",
       " ('EOO', 'EOE'): (0.4947, 0.5053),\n",
       " ('EOO', 'OEE'): (0.5023, 0.4977),\n",
       " ('EOO', 'OEO'): (0.5039, 0.4961),\n",
       " ('EOO', 'OOE'): (0.7463, 0.2537),\n",
       " ('EOO', 'OOO'): (0.8753, 0.1247),\n",
       " ('OEE', 'EEE'): (0.8781, 0.1219),\n",
       " ('OEE', 'EEO'): (0.7417, 0.2583),\n",
       " ('OEE', 'EOE'): (0.4937, 0.5063),\n",
       " ('OEE', 'EOO'): (0.5031, 0.4969),\n",
       " ('OEE', 'OEO'): (0.5033, 0.4967),\n",
       " ('OEE', 'OOE'): (0.3255, 0.6745),\n",
       " ('OEE', 'OOO'): (0.597, 0.403),\n",
       " ('OEO', 'EEE'): (0.5871, 0.4129),\n",
       " ('OEO', 'EEO'): (0.3778, 0.6222),\n",
       " ('OEO', 'EOE'): (0.4922, 0.5078),\n",
       " ('OEO', 'EOO'): (0.5022, 0.4978),\n",
       " ('OEO', 'OEE'): (0.4975, 0.5025),\n",
       " ('OEO', 'OOE'): (0.3285, 0.6715),\n",
       " ('OEO', 'OOO'): (0.5996, 0.4004),\n",
       " ('OOE', 'EEE'): (0.7044, 0.2956),\n",
       " ('OOE', 'EEO'): (0.5004, 0.4996),\n",
       " ('OOE', 'EOE'): (0.6324, 0.3676),\n",
       " ('OOE', 'EOO'): (0.2528, 0.7472),\n",
       " ('OOE', 'OEE'): (0.6623, 0.3377),\n",
       " ('OOE', 'OEO'): (0.658, 0.342),\n",
       " ('OOE', 'OOO'): (0.4951, 0.5049),\n",
       " ('OOO', 'EEE'): (0.4982, 0.5018),\n",
       " ('OOO', 'EEO'): (0.3049, 0.6951),\n",
       " ('OOO', 'EOE'): (0.4165, 0.5835),\n",
       " ('OOO', 'EOO'): (0.1218, 0.8782),\n",
       " ('OOO', 'OEE'): (0.4003, 0.5997),\n",
       " ('OOO', 'OEO'): (0.4013, 0.5987),\n",
       " ('OOO', 'OOE'): (0.4937, 0.5063)}"
      ]
     },
     "execution_count": 186,
     "metadata": {},
     "output_type": "execute_result"
    }
   ],
   "source": [
    "strategy_dict\n",
    "\n",
    "\n"
   ]
  },
  {
   "cell_type": "code",
   "execution_count": 161,
   "metadata": {},
   "outputs": [
    {
     "data": {
      "text/plain": [
       "{'EEE': 0.21294863626710356,\n",
       " 'EEO': 0.15536543187403296,\n",
       " 'EOE': 0.21269682351870392,\n",
       " 'EOO': 0.030338885349352265,\n",
       " 'OEE': 0.16270440824004126,\n",
       " 'OEO': 0.11036679712387366,\n",
       " 'OOE': 0.050753921300931405,\n",
       " 'OOO': 0.06482509632596098}"
      ]
     },
     "execution_count": 161,
     "metadata": {},
     "output_type": "execute_result"
    }
   ],
   "source": [
    "seqs_dict = {}\n",
    "n_samples = 10000\n",
    "arr_size = 100\n",
    "\n",
    "for seq in seqs:\n",
    "    seqs_dict[seq] = 0\n",
    "    \n",
    "\n",
    "cseq = \"EOO\"\n",
    "for _ in range(n_samples):\n",
    "    arr = \"\"\n",
    "    while(cseq not in arr):\n",
    "        arr += die()\n",
    "        for i in range(len(arr)-2):\n",
    "            seqs_dict[arr[i:i+3]] += 1\n",
    "    \n",
    "    \n",
    "tot = sum([val for _,val in seqs_dict.items()])\n",
    "    \n",
    "for seq,f in seqs_dict.items():\n",
    "    seqs_dict[seq] = f/tot\n",
    "    \n",
    "seqs_dict"
   ]
  },
  {
   "cell_type": "code",
   "execution_count": 119,
   "metadata": {},
   "outputs": [
    {
     "data": {
      "text/plain": [
       "'OOE'"
      ]
     },
     "execution_count": 119,
     "metadata": {},
     "output_type": "execute_result"
    }
   ],
   "source": [
    "''.join([die() for _ in range(arr_size)])[3:6]"
   ]
  },
  {
   "cell_type": "code",
   "execution_count": 120,
   "metadata": {},
   "outputs": [
    {
     "data": {
      "text/plain": [
       "{'EEE': 0.1254792385016444,\n",
       " 'EEO': 0.12463255798797929,\n",
       " 'EOE': 0.1246837234888101,\n",
       " 'EOO': 0.12485720152698881,\n",
       " 'OEE': 0.12487745344547009,\n",
       " 'OEO': 0.12490833582596736,\n",
       " 'OOE': 0.12472453941880643,\n",
       " 'OOO': 0.12583694980433335}"
      ]
     },
     "execution_count": 120,
     "metadata": {},
     "output_type": "execute_result"
    }
   ],
   "source": [
    "n_samples = 1000\n",
    "arr_size = 100\n",
    "\n",
    "\n",
    "for _ in range(n_samples):\n",
    "    arr = ''.join([die() for _ in range(arr_size)])\n",
    "    for i in range(len(arr)-2):\n",
    "        seqs_dict[arr[i:i+3]] += 1\n",
    "\n"
   ]
  },
  {
   "cell_type": "code",
   "execution_count": 176,
   "metadata": {},
   "outputs": [],
   "source": [
    "arr_size=10\n",
    "ftime = {}\n",
    "for seq in seqs:\n",
    "    \n",
    "    ts = [0 for _ in range(arr_size)]\n",
    "    n_samples = 10000\n",
    "\n",
    "    for _ in range(n_samples):\n",
    "        arr = ''\n",
    "        arr = ''.join([die() for _ in range(arr_size)])\n",
    "        i = arr.find(seq)\n",
    "        if i>=0:\n",
    "            ts[i] += 1\n",
    "        \n",
    "    ts = np.array(ts)/sum(ts)\n",
    "    ftime[seq] = np.argmax(ts)"
   ]
  },
  {
   "cell_type": "code",
   "execution_count": 177,
   "metadata": {},
   "outputs": [
    {
     "data": {
      "text/plain": [
       "{'EEE': 0,\n",
       " 'EEO': 1,\n",
       " 'EOE': 0,\n",
       " 'EOO': 2,\n",
       " 'OEE': 2,\n",
       " 'OEO': 1,\n",
       " 'OOE': 1,\n",
       " 'OOO': 0}"
      ]
     },
     "execution_count": 177,
     "metadata": {},
     "output_type": "execute_result"
    }
   ],
   "source": [
    "ftime"
   ]
  },
  {
   "cell_type": "code",
   "execution_count": null,
   "metadata": {},
   "outputs": [],
   "source": []
  }
 ],
 "metadata": {
  "kernelspec": {
   "display_name": "Python 3",
   "language": "python",
   "name": "python3"
  },
  "language_info": {
   "codemirror_mode": {
    "name": "ipython",
    "version": 3
   },
   "file_extension": ".py",
   "mimetype": "text/x-python",
   "name": "python",
   "nbconvert_exporter": "python",
   "pygments_lexer": "ipython3",
   "version": "3.7.4"
  }
 },
 "nbformat": 4,
 "nbformat_minor": 4
}
